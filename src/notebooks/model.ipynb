{
 "cells": [
  {
   "cell_type": "code",
   "execution_count": null,
   "metadata": {},
   "outputs": [],
   "source": [
    "import pandas as pd\n",
    "import tensorflow as tf"
   ]
  },
  {
   "cell_type": "code",
   "execution_count": null,
   "metadata": {},
   "outputs": [],
   "source": [
    "df_labels = pd.read_csv('../../data/df_labels.csv')"
   ]
  },
  {
   "cell_type": "code",
   "execution_count": null,
   "metadata": {},
   "outputs": [],
   "source": [
    "with open('../../documentation/train_val_list.txt', 'r', encoding='utf-8') as file:\n",
    "    train_val_images = file.read().splitlines()\n",
    "\n",
    "with open('../../documentation/test_list.txt', 'r', encoding='utf-8') as file:\n",
    "    test_images = file.read().splitlines()\n"
   ]
  },
  {
   "cell_type": "code",
   "execution_count": null,
   "metadata": {},
   "outputs": [],
   "source": [
    "train_val_df = df_labels[df_labels['index'].isin(train_val_images)]\n",
    "test_df = df_labels[df_labels['index'].isin(test_images)]"
   ]
  },
  {
   "cell_type": "code",
   "execution_count": null,
   "metadata": {},
   "outputs": [],
   "source": [
    "train_val_image_paths = ['../../data/images/' + filename for filename in train_val_df['index'].tolist()]\n",
    "test_image_paths = ['../../data/images/' + filename for filename in test_df['index'].tolist()]"
   ]
  },
  {
   "cell_type": "code",
   "execution_count": null,
   "metadata": {},
   "outputs": [],
   "source": [
    "train_val_metadata = train_val_df[['gender', 'view-position']]\n",
    "test_metadata = test_df[['gender', 'view-position']]"
   ]
  },
  {
   "cell_type": "code",
   "execution_count": null,
   "metadata": {},
   "outputs": [],
   "source": [
    "train_val_metadata_tensors = tf.constant(train_val_metadata.values)\n",
    "test_metadata_tensors = tf.constant(test_metadata.values)"
   ]
  },
  {
   "cell_type": "code",
   "execution_count": null,
   "metadata": {},
   "outputs": [],
   "source": [
    "train_val_metadata_dataset = tf.data.Dataset.from_tensor_slices(train_val_metadata_tensors)\n",
    "test_metadata_dataset = tf.data.Dataset.from_tensor_slices(test_metadata_tensors)\n"
   ]
  },
  {
   "cell_type": "code",
   "execution_count": null,
   "metadata": {},
   "outputs": [],
   "source": [
    "# Zip image and meta data\n",
    "\n",
    "# Assuming you have functions to load and preprocess images\n",
    "def load_and_preprocess_image(image_path):\n",
    "    # Load and preprocess image\n",
    "    # Return preprocessed image\n",
    "    return processed_image\n",
    "\n",
    "# Create a function to process each element of the dataset\n",
    "def process_data(image_path, metadata):\n",
    "    # Load and preprocess image\n",
    "    image = load_and_preprocess_image(image_path)\n",
    "    # Return tuple containing image and metadata\n",
    "    return image, metadata\n",
    "\n",
    "# Create TensorFlow datasets for training/validation and testing sets\n",
    "train_val_dataset = tf.data.Dataset.from_tensor_slices((train_val_image_paths, train_val_metadata_tensors))\n",
    "test_dataset = tf.data.Dataset.from_tensor_slices((test_image_paths, test_metadata_tensors))\n",
    "\n",
    "# Map the process_data function to each element of the datasets\n",
    "train_val_dataset = train_val_dataset.map(process_data)\n",
    "test_dataset = test_dataset.map(process_data)\n"
   ]
  },
  {
   "cell_type": "code",
   "execution_count": null,
   "metadata": {},
   "outputs": [],
   "source": []
  }
 ],
 "metadata": {
  "kernelspec": {
   "display_name": "tf",
   "language": "python",
   "name": "python3"
  },
  "language_info": {
   "codemirror_mode": {
    "name": "ipython",
    "version": 3
   },
   "file_extension": ".py",
   "mimetype": "text/x-python",
   "name": "python",
   "nbconvert_exporter": "python",
   "pygments_lexer": "ipython3",
   "version": "3.11.8"
  }
 },
 "nbformat": 4,
 "nbformat_minor": 2
}
